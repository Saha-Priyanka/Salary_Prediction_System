{
 "cells": [
  {
   "cell_type": "code",
   "execution_count": null,
   "id": "4dafdc35",
   "metadata": {},
   "outputs": [
    {
     "name": "stdout",
     "output_type": "stream",
     "text": [
      "Welcome to Salary Prediction System\n",
      "Press ENTER key to proceed\n",
      "\n",
      "0 ... attachment_Salary-Data_lyst5512 (1).csv\n",
      "Select file to create ML model0\n",
      "attachment_Salary-Data_lyst5512 (1).csv is selected\n",
      "Reading csv file\n",
      "Creating Dataset\n",
      "Dataset created\n",
      "Enter test data size (between 0 and 1)0.6\n",
      "Model creation in progression\n",
      "Model is created\n",
      "Press ENTER key to predict test data in trained model\n",
      "\n",
      "[[ 4.1]\n",
      " [10.5]\n",
      " [ 9. ]\n",
      " [ 7.9]\n",
      " [ 3.2]\n",
      " [ 8.7]\n",
      " [ 1.3]\n",
      " [ 6.8]\n",
      " [ 1.1]\n",
      " [ 4.9]\n",
      " [ 5.9]\n",
      " [ 4. ]\n",
      " [ 8.2]\n",
      " [ 3. ]\n",
      " [10.3]\n",
      " [ 5.1]\n",
      " [ 7.1]\n",
      " [ 6. ]]   ... [ 57081 121872 105582 101302  54445 109431  46205  91738  39343  67938\n",
      "  81363  56957 113812  60150 122391  66029  98273  93940]   ... [ 63557.39112751 124562.41093621 110264.35941854  99779.12163892\n",
      "  54978.56021692 107404.74911501  36867.69496121  89293.88385931\n",
      "  34961.28809219  71183.0186036   80715.05294871  62604.187693\n",
      " 102638.73194246  53072.15334789 122656.00406718  73089.42547262\n",
      "  92153.49416284  81668.25638322]\n",
      "[4.1] ... 57081 ... 63557.391127513736\n",
      "[10.5] ... 121872 ... 124562.41093620547\n",
      "[9.] ... 105582 ... 110264.35941854335\n",
      "[7.9] ... 101302 ... 99779.12163892445\n",
      "[3.2] ... 54445 ... 54978.56021691646\n",
      "[8.7] ... 109431 ... 107404.74911501091\n",
      "[1.3] ... 46205 ... 36867.694961211106\n",
      "[6.8] ... 91738 ... 89293.88385930556\n",
      "[1.1] ... 39343 ... 34961.2880921895\n",
      "[4.9] ... 67938 ... 71183.01860360021\n",
      "[5.9] ... 81363 ... 80715.0529487083\n",
      "[4.] ... 56957 ... 62604.18769300293\n",
      "[8.2] ... 113812 ... 102638.73194245687\n",
      "[3.] ... 60150 ... 53072.15334789485\n",
      "[10.3] ... 122391 ... 122656.00406718387\n",
      "[5.1] ... 66029 ... 73089.42547262182\n",
      "[7.1] ... 98273 ... 92153.49416283799\n",
      "[6.] ... 93940 ... 81668.2563832191\n",
      "Press ENTER key to see above result in graphical format\n",
      "\n"
     ]
    },
    {
     "data": {
      "image/png": "[encoded data removed]",
      "text/plain": [
       "<Figure size 432x288 with 1 Axes>"
      ]
     },
     "metadata": {
      "needs_background": "light"
     },
     "output_type": "display_data"
    },
    {
     "name": "stdout",
     "output_type": "stream",
     "text": [
      "Our model is 94.81% accurate\n",
      "Now you can predict salary of an employee using our model\n",
      "\n",
      "Enter experience in years of the candidates, separated by comma\n",
      "10,8,0\n"
     ]
    },
    {
     "data": {
      "image/png": "[encoded data removed]",
      "text/plain": [
       "<Figure size 432x288 with 1 Axes>"
      ]
     },
     "metadata": {
      "needs_background": "light"
     },
     "output_type": "display_data"
    },
    {
     "name": "stdout",
     "output_type": "stream",
     "text": [
      "   Experience       Salaries\n",
      "0        10.0  119796.393764\n",
      "1         8.0  100732.325073\n",
      "2         0.0   24476.050313\n"
     ]
    }
   ],
   "source": [
    "import os\n",
    "import numpy as np\n",
    "import pandas as pd\n",
    "import matplotlib.pyplot as plt\n",
    "from sklearn.model_selection import train_test_split\n",
    "from sklearn.linear_model import LinearRegression\n",
    "from sklearn.metrics import r2_score\n",
    "def welcome():\n",
    "    print(\"Welcome to Salary Prediction System\")\n",
    "    print(\"Press ENTER key to proceed\")\n",
    "    input()\n",
    "def checkcsv():\n",
    "    csv_files=[]\n",
    "    cur_dir=os.getcwd()\n",
    "    content_list=os.listdir(cur_dir)\n",
    "    for x in content_list:\n",
    "        if x.split('.')[-1]=='csv':\n",
    "            csv_files.append(x)\n",
    "    if len(csv_files)==0:\n",
    "        return 'No csv file in the directory'\n",
    "    else:\n",
    "        return csv_files\n",
    "def display_and_select_csv(csv_files):\n",
    "    i=0\n",
    "    for file_name in csv_files:\n",
    "        print(i,'...',file_name)\n",
    "        i+=1\n",
    "    return csv_files[int(input(\"Select file to create ML model\"))]\n",
    "def graph(X_train,Y_train,regressionObject,X_test,Y_test,Y_pred):\n",
    "    plt.scatter(X_train,Y_train,color='red',label='training data')\n",
    "    plt.plot(X_train,regressionObject.predict(X_train),color='blue',label='Best Fit')\n",
    "    plt.scatter(X_test,Y_test,color='green',label='test data')\n",
    "    plt.scatter(X_test,Y_pred,color='black',label='Pred test data')\n",
    "    plt.title(\"Salary vs Experience\")\n",
    "    plt.xlabel('Years of Experience')\n",
    "    plt.ylabel('Salary')\n",
    "    plt.legend()\n",
    "    plt.show()\n",
    "def main():\n",
    "    welcome()\n",
    "    try:\n",
    "        csv_files=checkcsv()\n",
    "        if csv_files=='No csv file in the directory':\n",
    "            raise FileNotFoundError('No csv file in the directory')\n",
    "        csv_file=display_and_select_csv(csv_files)\n",
    "        print(csv_file,'is selected')\n",
    "        print('Reading csv file')\n",
    "        print('Creating Dataset')\n",
    "        dataset=pd.read_csv(csv_file)\n",
    "        print('Dataset created')\n",
    "        X=dataset.iloc[:,:-1].values\n",
    "        Y=dataset.iloc[:,-1].values\n",
    "        s=float(input(\"Enter test data size (between 0 and 1)\") )\n",
    "        X_train,X_test,Y_train,Y_test=train_test_split(X,Y,test_size=s)\n",
    "        print(\"Model creation in progression\")\n",
    "        regressionObject=LinearRegression()\n",
    "        regressionObject.fit(X_train,Y_train)\n",
    "        print(\"Model is created\")\n",
    "        print(\"Press ENTER key to predict test data in trained model\")\n",
    "        input()\n",
    "\n",
    "        Y_pred=regressionObject.predict(X_test)\n",
    "        i=0#\n",
    "        print(X_test,'  ...',Y_test,'  ...',Y_pred)\n",
    "        while i<len(X_test):#\n",
    "            print(X_test[i],'...',Y_test[i],'...',Y_pred[i])\n",
    "            i+=1\n",
    "        print(\"Press ENTER key to see above result in graphical format\")\n",
    "        input()\n",
    "        graph(X_train,Y_train, regressionObject, X_test, Y_test, Y_pred)\n",
    "        r2=r2_score(Y_test,Y_pred)\n",
    "        print(\"Our model is %2.2f%% accurate\" %(r2*100))\n",
    "\n",
    "        print(\"Now you can predict salary of an employee using our model\")\n",
    "        print(\"\\nEnter experience in years of the candidates, separated by comma\")\n",
    "\n",
    "        exp=[float(e) for e in input().split(',')]\n",
    "        ex=[]\n",
    "        for x in exp:\n",
    "            ex.append([x])\n",
    "        experience =np.array(ex)\n",
    "        salaries=regressionObject.predict(experience)\n",
    "\n",
    "        plt.scatter(experience,salaries,color='black')\n",
    "        plt.xlabel('Years of Experience')\n",
    "        plt.ylabel('Salaries')\n",
    "        plt.show()\n",
    "\n",
    "        d=pd.DataFrame({'Experience':exp,'Salaries':salaries})#\n",
    "        print(d) \n",
    "        \n",
    "    except FileNotFoundError:\n",
    "        print('No csv file in the directory')\n",
    "        print(\"Press ENTER key to exit\")\n",
    "        input()\n",
    "        exit()\n",
    "\n",
    "if __name__==\"__main__\":\n",
    "    main()\n",
    "    input()\n"
   ]
  },
  {
   "cell_type": "code",
   "execution_count": null,
   "id": "10b6075b",
   "metadata": {},
   "outputs": [],
   "source": []
  },
  {
   "cell_type": "code",
   "execution_count": null,
   "id": "f7cfb89e",
   "metadata": {},
   "outputs": [],
   "source": []
  }
 ],
 "metadata": {
  "kernelspec": {
   "display_name": "Python 3 (ipykernel)",
   "language": "python",
   "name": "python3"
  },
  "language_info": {
   "codemirror_mode": {
    "name": "ipython",
    "version": 3
   },
   "file_extension": ".py",
   "mimetype": "text/x-python",
   "name": "python",
   "nbconvert_exporter": "python",
   "pygments_lexer": "ipython3",
   "version": "3.10.2"
  }
 },
 "nbformat": 4,
 "nbformat_minor": 5
}
